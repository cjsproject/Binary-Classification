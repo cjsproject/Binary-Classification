{
 "cells": [
  {
   "cell_type": "code",
   "execution_count": 1,
   "metadata": {},
   "outputs": [
    {
     "name": "stdout",
     "output_type": "stream",
     "text": [
      "30 x 455 (31,) (455,) 569 (455,)\n"
     ]
    }
   ],
   "source": [
    "import numpy as np\n",
    "from sklearn.datasets import load_breast_cancer\n",
    "\n",
    "\"\"\"\n",
    "guided from the maths in the series here https://www.youtube.com/watch?v=eqEc66RFY0I\n",
    "\"\"\"\n",
    "\n",
    "dataset = load_breast_cancer()\n",
    "size = dataset['data'].shape[0]\n",
    "x, xtest = dataset['data'][:int(size*0.8)], dataset['data'][int(size*0.8):] # train/test is 80/20\n",
    "n = x.shape[1] # feature vector size\n",
    "m = x.shape[0] # m data\n",
    "\n",
    "x = x/np.max(x)\n",
    "\n",
    "#appending intercept\n",
    "x0 = np.ones((m,1))\n",
    "x = np.hstack((x0, x))\n",
    "\n",
    "# learning rate\n",
    "alpha = 0.75\n",
    "\n",
    "# target data\n",
    "targets = dataset['target'][:int(size*0.8)]\n",
    "test_targets = dataset['target'][int(size*0.8):]\n",
    "\n",
    "# loss vector\n",
    "loss = np.zeros(m)\n",
    "\n",
    "# weights\n",
    "w = np.zeros(n+1)\n",
    "\n",
    "# biases\n",
    "b = np.zeros(m)\n",
    "\n",
    "print(f'{n} x {m}', w.transpose().shape, targets.shape, size, np.matmul(x, w).shape)"
   ]
  },
  {
   "cell_type": "code",
   "execution_count": 2,
   "metadata": {},
   "outputs": [],
   "source": [
    "def sigmoid(z_in):\n",
    "    return 1/(1+ np.exp(-z_in))"
   ]
  },
  {
   "cell_type": "code",
   "execution_count": 3,
   "metadata": {
    "scrolled": true
   },
   "outputs": [
    {
     "name": "stdout",
     "output_type": "stream",
     "text": [
      "0.6931471805599453\n"
     ]
    },
    {
     "name": "stderr",
     "output_type": "stream",
     "text": [
      "<ipython-input-3-0f884f70d827>:14: RuntimeWarning: divide by zero encountered in log\n",
      "  loss[i] = -(y*np.log(yh) + (1-y)*(np.log(1-yh)))\n",
      "<ipython-input-3-0f884f70d827>:14: RuntimeWarning: invalid value encountered in multiply\n",
      "  loss[i] = -(y*np.log(yh) + (1-y)*(np.log(1-yh)))\n"
     ]
    },
    {
     "name": "stdout",
     "output_type": "stream",
     "text": [
      "nan\n"
     ]
    }
   ],
   "source": [
    "# Train for e epochs\n",
    "e = 10\n",
    "for j in range(e**2):\n",
    "    #print(w.shape, x.shape)\n",
    "    z = np.matmul(x, w)\n",
    "\n",
    "    a = 1/(1+ np.exp(-z))\n",
    "\n",
    "    #print(a.shape, targets.shape)\n",
    "\n",
    "    i = -1\n",
    "    for y, yh in zip(targets, a):\n",
    "        i += 1\n",
    "        loss[i] = -(y*np.log(yh) + (1-y)*(np.log(1-yh)))\n",
    "\n",
    "    #temp_loss = (1/m)*np.sum(loss, 1)\n",
    "    cost = (1/m)*np.sum(loss)\n",
    "    if j == 0:\n",
    "        print(cost)\n",
    "\n",
    "    #da = -y/a + (1-y)/(1-a)\n",
    "    dz = a - targets\n",
    "    dw = np.matmul(dz, x)\n",
    "    db = dz\n",
    "    #print(x.shape, dz.shape, dz[0], db[0])\n",
    "    #print('before: ', w.shape, b[0][0])\n",
    "    w -= alpha*dw\n",
    "    b -= alpha*db\n",
    "    #print('\\n\\nafter: ', w.shape, b[0][0])\n",
    "    #print(dz.shape, dw.shape, db.shape)\n",
    "    \n",
    "print(cost)"
   ]
  },
  {
   "cell_type": "code",
   "execution_count": 4,
   "metadata": {},
   "outputs": [
    {
     "name": "stdout",
     "output_type": "stream",
     "text": [
      "(31,)\n",
      "accuracy: 76/114, yes:80, no:23)\n"
     ]
    }
   ],
   "source": [
    "\n",
    "print(w.shape)\n",
    "m1 = xtest.shape[0]\n",
    "test0 = np.ones((m1,1))\n",
    "xtest = xtest/np.max(xtest)\n",
    "xtest = np.hstack((test0, xtest))\n",
    "\n",
    "z1 = np.matmul(xtest, w)\n",
    "\n",
    "a1 = 1/(1+ np.exp(-z1))\n",
    "\n",
    "\n",
    "#print(a.shape, targets.shape)\n",
    "\n",
    "i = -1\n",
    "accurate = 0\n",
    "yes = 0\n",
    "no = 0\n",
    "\n",
    "for y, yh in zip(test_targets, a1):\n",
    "    #print(y, yh)\n",
    "    if np.isclose(abs(yh -y), 0.):\n",
    "        accurate += 1\n",
    "    if y == 1 and yh > 0.5:\n",
    "        yes += 1\n",
    "    elif y == 0 and yh <= 0.5:\n",
    "        no += 1\n",
    "# accuracy from ~ 1minute of training\n",
    "print(f'accuracy: {accurate}/{xtest.shape[0]}, yes:{yes}, no:{no})')\n",
    "        "
   ]
  }
 ],
 "metadata": {
  "kernelspec": {
   "display_name": "Python 3",
   "language": "python",
   "name": "python3"
  },
  "language_info": {
   "codemirror_mode": {
    "name": "ipython",
    "version": 3
   },
   "file_extension": ".py",
   "mimetype": "text/x-python",
   "name": "python",
   "nbconvert_exporter": "python",
   "pygments_lexer": "ipython3",
   "version": "3.8.5"
  }
 },
 "nbformat": 4,
 "nbformat_minor": 4
}
